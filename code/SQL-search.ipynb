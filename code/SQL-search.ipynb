{
 "cells": [
  {
   "cell_type": "code",
   "execution_count": 41,
   "metadata": {
    "collapsed": true
   },
   "outputs": [],
   "source": [
    "# -*- coding: utf-8 -*-\n",
    "import sqlite3"
   ]
  },
  {
   "cell_type": "code",
   "execution_count": 42,
   "metadata": {
    "collapsed": true
   },
   "outputs": [],
   "source": [
    "db = sqlite3.connect('../dataset/mydb.db')  # Connect to the database    \n",
    "c = db.cursor() # Get a cursor object"
   ]
  },
  {
   "cell_type": "code",
   "execution_count": 43,
   "metadata": {
    "collapsed": true
   },
   "outputs": [],
   "source": [
    "def print_uni_rows(rows):\n",
    "    '''\n",
    "    设定一个函数来打印查询的结果，以 unicode 的形式\n",
    "    '''\n",
    "    for row in rows:\n",
    "        string = '|'\n",
    "        # 遍历每一行元组的值\n",
    "        for ind in range(len(row)):\n",
    "            # 链接编码后的字符串\n",
    "            string += unicode(row[ind]) + '| '\n",
    "        # 打印出该行字符串\n",
    "        print string"
   ]
  },
  {
   "cell_type": "code",
   "execution_count": 44,
   "metadata": {},
   "outputs": [
    {
     "name": "stdout",
     "output_type": "stream",
     "text": [
      "|nodes 数量查询结果|\n",
      "|------------------|\n",
      "|400770| \n"
     ]
    }
   ],
   "source": [
    "query = \"SELECT COUNT(*) FROM nodes;\"\n",
    "c.execute(query)\n",
    "rows=c.fetchall()\n",
    "print \"|nodes 数量查询结果|\"   \n",
    "print \"|------------------|\"\n",
    "print_uni_rows(rows)"
   ]
  },
  {
   "cell_type": "code",
   "execution_count": 45,
   "metadata": {},
   "outputs": [
    {
     "name": "stdout",
     "output_type": "stream",
     "text": [
      "|ways 数量查询结果|\n",
      "|-----------------|\n",
      "|50217| \n"
     ]
    }
   ],
   "source": [
    "query = \"SELECT COUNT(*) FROM ways;\"\n",
    "c.execute(query)\n",
    "rows=c.fetchall()\n",
    "print \"|ways 数量查询结果|\"   \n",
    "print \"|-----------------|\"\n",
    "print_uni_rows(rows)"
   ]
  },
  {
   "cell_type": "code",
   "execution_count": 46,
   "metadata": {},
   "outputs": [
    {
     "name": "stdout",
     "output_type": "stream",
     "text": [
      "|唯一用户数量查询结果|\n",
      "|--------------------|\n",
      "|907| \n"
     ]
    }
   ],
   "source": [
    "query=\"\"\"\n",
    "SELECT COUNT(DISTINCT(sq.uid)) as 'Number of unique users'           \n",
    "FROM (SELECT uid FROM nodes UNION ALL SELECT uid FROM ways) as sq;\n",
    "\"\"\"\n",
    "c.execute(query)\n",
    "rows=c.fetchall()\n",
    "print \"|唯一用户数量查询结果|\"   \n",
    "print \"|--------------------|\"\n",
    "print_uni_rows(rows)"
   ]
  },
  {
   "cell_type": "code",
   "execution_count": 47,
   "metadata": {},
   "outputs": [
    {
     "name": "stdout",
     "output_type": "stream",
     "text": [
      "|贡献前 10 用户查询结果|\n",
      "|----------------------|\n",
      "|hlaw| 150311| \n",
      "|KX675| 34879| \n",
      "|FlyTy| 29769| \n",
      "|Philip C| 21372| \n",
      "|R17466| 18735| \n",
      "|Wrightbus| 18673| \n",
      "|jc86035| 13973| \n",
      "|cartogram| 12350| \n",
      "|eversone| 11475| \n",
      "|bTonyB| 8980| \n"
     ]
    }
   ],
   "source": [
    "query=\"\"\"\n",
    "SELECT e.user, COUNT(*) as num\n",
    "FROM (SELECT user FROM nodes UNION ALL SELECT user FROM ways) e\n",
    "GROUP BY e.user\n",
    "ORDER BY num DESC\n",
    "LIMIT 10;\n",
    "\"\"\"\n",
    "c.execute(query)\n",
    "rows=c.fetchall()\n",
    "print \"|贡献前 10 用户查询结果|\"   \n",
    "print \"|----------------------|\"\n",
    "print_uni_rows(rows)"
   ]
  },
  {
   "cell_type": "code",
   "execution_count": 48,
   "metadata": {},
   "outputs": [
    {
     "name": "stdout",
     "output_type": "stream",
     "text": [
      "|前 10 咖啡馆查询结果|\n",
      "|-------------------|\n",
      "|星巴克咖啡 Starbucks Coffee| 30| \n",
      "|太平洋咖啡 Pacific Coffee| 24| \n",
      "|Starbucks| 23| \n",
      "|Pacific Coffee| 5| \n",
      "|Starbucks Coffee| 3| \n",
      "|Délifrance| 2| \n",
      "|Pacific Coffee Company| 2| \n",
      "|Paradise| 2| \n",
      "|新釗記| 2| \n",
      "|18 grams| 1| \n"
     ]
    }
   ],
   "source": [
    "query=\"\"\"\n",
    "SELECT nodes_tags.value, COUNT(*) as num\n",
    "FROM nodes_tags\n",
    "    JOIN (SELECT DISTINCT(id) FROM nodes_tags WHERE value='cafe') i\n",
    "    ON nodes_tags.id=i.id\n",
    "WHERE nodes_tags.key='name'\n",
    "GROUP BY nodes_tags.value\n",
    "ORDER BY num DESC\n",
    "LIMIT 10;\n",
    "\"\"\"\n",
    "c.execute(query)\n",
    "rows=c.fetchall()\n",
    "print \"|前 10 咖啡馆查询结果|\"   \n",
    "print \"|-------------------|\"\n",
    "print_uni_rows(rows)"
   ]
  },
  {
   "cell_type": "code",
   "execution_count": 49,
   "metadata": {},
   "outputs": [
    {
     "name": "stdout",
     "output_type": "stream",
     "text": [
      "|快餐前 10 查询结果|\n",
      "|------------------|\n",
      "|麥當勞 McDonald's| 63| \n",
      "|McDonald's| 29| \n",
      "|大家樂 Café de Coral| 25| \n",
      "|吉野家 Yoshinoya| 10| \n",
      "|肯德基 KFC| 10| \n",
      "|大快活 Fairwood| 9| \n",
      "|KFC| 8| \n",
      "|Maxim MX| 5| \n",
      "|賽百味 Subway| 4| \n",
      "|Subway| 3| \n"
     ]
    }
   ],
   "source": [
    "query=\"\"\"\n",
    "SELECT nodes_tags.value, COUNT(*) as num\n",
    "FROM nodes_tags\n",
    "    JOIN (SELECT DISTINCT(id) FROM nodes_tags WHERE value='fast_food') i\n",
    "    ON nodes_tags.id=i.id\n",
    "WHERE nodes_tags.key='name'\n",
    "GROUP BY nodes_tags.value\n",
    "ORDER BY num DESC\n",
    "LIMIT 10;\n",
    "\"\"\"\n",
    "c.execute(query)\n",
    "rows=c.fetchall()\n",
    "print \"|快餐前 10 查询结果|\"   \n",
    "print \"|------------------|\"\n",
    "print_uni_rows(rows)"
   ]
  },
  {
   "cell_type": "code",
   "execution_count": 50,
   "metadata": {},
   "outputs": [
    {
     "name": "stdout",
     "output_type": "stream",
     "text": [
      "|前 10 菜系查询结果|\n",
      "|------------------|\n",
      "|chinese| 73| \n",
      "|japanese| 39| \n",
      "|noodle| 25| \n",
      "|pizza| 20| \n",
      "|indian| 17| \n",
      "|noodles| 14| \n",
      "|thai| 14| \n",
      "|american| 11| \n",
      "|sushi| 11| \n",
      "|vegetarian| 11| \n"
     ]
    }
   ],
   "source": [
    "query=\"\"\"\n",
    "SELECT nodes_tags.value, COUNT(*) as num\n",
    "FROM nodes_tags \n",
    "    JOIN (SELECT DISTINCT(id) FROM nodes_tags WHERE value='restaurant') i\n",
    "    ON nodes_tags.id=i.id\n",
    "WHERE nodes_tags.key='cuisine'\n",
    "GROUP BY nodes_tags.value\n",
    "ORDER BY num DESC\n",
    "Limit 10;\n",
    "\"\"\"\n",
    "c.execute(query)\n",
    "rows=c.fetchall()\n",
    "print \"|前 10 菜系查询结果|\"   \n",
    "print \"|------------------|\"\n",
    "print_uni_rows(rows)"
   ]
  }
 ],
 "metadata": {
  "kernelspec": {
   "display_name": "Python (py2)",
   "language": "python",
   "name": "py2"
  },
  "language_info": {
   "codemirror_mode": {
    "name": "ipython",
    "version": 2
   },
   "file_extension": ".py",
   "mimetype": "text/x-python",
   "name": "python",
   "nbconvert_exporter": "python",
   "pygments_lexer": "ipython2",
   "version": "2.7.13"
  }
 },
 "nbformat": 4,
 "nbformat_minor": 2
}
