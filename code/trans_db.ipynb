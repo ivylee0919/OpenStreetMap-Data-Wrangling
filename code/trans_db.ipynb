{
 "cells": [
  {
   "cell_type": "code",
   "execution_count": 61,
   "metadata": {
    "collapsed": true
   },
   "outputs": [],
   "source": [
    "# -*- coding: utf-8 -*-\n",
    "import sqlite3\n",
    "import csv"
   ]
  },
  {
   "cell_type": "code",
   "execution_count": 62,
   "metadata": {
    "collapsed": true
   },
   "outputs": [],
   "source": [
    "db = sqlite3.connect('../dataset/mydb.db')  # Connect to the database    \n",
    "c = db.cursor() # Get a cursor object"
   ]
  },
  {
   "cell_type": "code",
   "execution_count": 63,
   "metadata": {
    "collapsed": true
   },
   "outputs": [],
   "source": [
    "# creating nodes table in database san-diego_california and inserting values into table nodes\n",
    "\n",
    "query=\"DROP TABLE IF EXISTS nodes;\" # Dropping the table if it already exists\n",
    "c.execute(query);\n",
    "db.commit()\n",
    "query = \"CREATE TABLE nodes (id INTEGER PRIMARY KEY NOT NULL,lat REAL,lon REAL,user TEXT,uid INTEGER,version INTEGER,changeset INTEGER,timestamp TEXT);\"\n",
    "c.execute(query)\n",
    "db.commit()\n",
    "\n",
    "# Read in the csv file as a dictionary, format the data as a list of tuples:\n",
    "\n",
    "with open('../dataset/nodes.csv','rb') as f: \n",
    "    dr = csv.DictReader(f)\n",
    "    to_db = [(i['id'].decode(\"utf-8\"),i['lat'].decode(\"utf-8\"),i['lon'].decode(\"utf-8\"),i['user'].decode(\"utf-8\"),i['uid'].decode(\"utf-8\"),i['version'].decode(\"utf-8\"),i['changeset'].decode(\"utf-8\"),i['timestamp'].decode(\"utf-8\")) for i in dr]\n",
    "    \n",
    "# insert the formatted data\n",
    "\n",
    "c.executemany(\"INSERT INTO nodes (id, lat, lon, user, uid, version, changeset, timestamp) VALUES (?,?,?,?,?,?,?,?);\", to_db)\n",
    "db.commit()\n",
    "f.close()"
   ]
  },
  {
   "cell_type": "code",
   "execution_count": 64,
   "metadata": {
    "collapsed": true
   },
   "outputs": [],
   "source": [
    "# creating nodes_tags table in database san-diego_california and inserting values into table nodes_tags\n",
    "\n",
    "query=\"DROP TABLE IF EXISTS nodes_tags;\"  # Dropping the table if it already exists\n",
    "c.execute(query);\n",
    "db.commit()\n",
    "query = \"CREATE TABLE nodes_tags (id INTEGER,key TEXT,value TEXT,type TEXT,FOREIGN KEY (id) REFERENCES nodes(id));\"\n",
    "c.execute(query)\n",
    "db.commit()\n",
    "\n",
    "# Read in the csv file as a dictionary, format the data as a list of tuples:\n",
    "\n",
    "with open('../dataset/nodes_tags.csv','rb') as f: \n",
    "    dr = csv.DictReader(f)\n",
    "    to_db = [(i['id'].decode(\"utf-8\"),i['key'].decode(\"utf-8\"),i['value'].decode(\"utf-8\"),i['type'].decode(\"utf-8\")) for i in dr]\n",
    "\n",
    "# insert the formatted data\n",
    "\n",
    "c.executemany(\"INSERT INTO nodes_tags (id, key, value, type) VALUES (?,?,?,?);\", to_db)\n",
    "db.commit()\n",
    "f.close()"
   ]
  },
  {
   "cell_type": "code",
   "execution_count": 65,
   "metadata": {
    "collapsed": true
   },
   "outputs": [],
   "source": [
    "# creating ways table in database san-diego_california and inserting values into table ways\n",
    "\n",
    "query=\"DROP TABLE IF EXISTS ways;\"   # Dropping the table if it already exists\n",
    "c.execute(query);\n",
    "db.commit()\n",
    "query = \"CREATE TABLE ways(id INTEGER PRIMARY KEY NOT NULL,user TEXT,uid INTEGER,version TEXT,changeset INTEGER,timestamp TEXT);\"\n",
    "c.execute(query)\n",
    "db.commit()\n",
    "\n",
    "# Read in the csv file as a dictionary, format the data as a list of tuples:\n",
    "\n",
    "with open('../dataset/ways.csv','rb') as f: \n",
    "    dr = csv.DictReader(f)\n",
    "    to_db = [(i['id'].decode(\"utf-8\"),i['user'].decode(\"utf-8\"),i['uid'].decode(\"utf-8\"),i['version'].decode(\"utf-8\"),i['changeset'].decode(\"utf-8\"),i['timestamp'].decode(\"utf-8\")) for i in dr]\n",
    "\n",
    "# insert the formatted data        \n",
    "    \n",
    "c.executemany(\"INSERT INTO ways (id, user, uid, version, changeset, timestamp) VALUES (?,?,?,?,?,?);\", to_db)\n",
    "db.commit()\n",
    "f.close()"
   ]
  },
  {
   "cell_type": "code",
   "execution_count": 66,
   "metadata": {
    "collapsed": true
   },
   "outputs": [],
   "source": [
    "# creating ways_nodes table in database san-diego_california and inserting values into table ways_nodes\n",
    "\n",
    "query=\"DROP TABLE IF EXISTS ways_nodes;\"  # Dropping the table if it already exists\n",
    "c.execute(query);\n",
    "db.commit()\n",
    "query = \"CREATE TABLE ways_nodes (id INTEGER NOT NULL,node_id INTEGER NOT NULL,position INTEGER NOT NULL,FOREIGN KEY (id) REFERENCES ways(id),FOREIGN KEY (node_id) REFERENCES nodes(id));\"\n",
    "c.execute(query)\n",
    "db.commit()\n",
    "\n",
    "# Read in the csv file as a dictionary, format the data as a list of tuples:\n",
    "\n",
    "with open('../dataset/ways_nodes.csv','rb') as f: \n",
    "    dr = csv.DictReader(f)\n",
    "    to_db = [(i['id'].decode(\"utf-8\"),i['node_id'].decode(\"utf-8\"),i['position'].decode(\"utf-8\")) for i in dr]\n",
    "\n",
    "    \n",
    "# insert the formatted data \n",
    "    \n",
    "c.executemany(\"INSERT INTO ways_nodes (id, node_id, position) VALUES (?,?,?);\", to_db)\n",
    "db.commit()\n",
    "f.close()"
   ]
  },
  {
   "cell_type": "code",
   "execution_count": 67,
   "metadata": {
    "collapsed": true
   },
   "outputs": [],
   "source": [
    "# creating ways_tags table in database san-diego_california and inserting values into table ways_nodes\n",
    "\n",
    "query=\"DROP TABLE IF EXISTS ways_tags;\"   # Dropping the table if it already exists\n",
    "c.execute(query);\n",
    "db.commit()\n",
    "query = \"CREATE TABLE ways_tags (id INTEGER NOT NULL,key TEXT NOT NULL,value TEXT NOT NULL,type TEXT,FOREIGN KEY (id) REFERENCES ways(id));\"\n",
    "c.execute(query)\n",
    "db.commit()\n",
    "\n",
    "\n",
    "# Read in the csv file as a dictionary, format the data as a list of tuples:\n",
    "\n",
    "with open('../dataset/ways_tags.csv','rb') as f: \n",
    "    dr = csv.DictReader(f)\n",
    "    to_db = [(i['id'].decode(\"utf-8\"),i['key'].decode(\"utf-8\"),i['value'].decode(\"utf-8\"),i['type'].decode(\"utf-8\")) for i in dr]\n",
    "\n",
    "# insert the formatted data \n",
    "\n",
    "c.executemany(\"INSERT INTO ways_tags (id, key, value, type) VALUES (?,?,?,?);\", to_db)\n",
    "db.commit()\n",
    "f.close()"
   ]
  }
 ],
 "metadata": {
  "kernelspec": {
   "display_name": "Python (py2)",
   "language": "python",
   "name": "py2"
  },
  "language_info": {
   "codemirror_mode": {
    "name": "ipython",
    "version": 2
   },
   "file_extension": ".py",
   "mimetype": "text/x-python",
   "name": "python",
   "nbconvert_exporter": "python",
   "pygments_lexer": "ipython2",
   "version": "2.7.13"
  }
 },
 "nbformat": 4,
 "nbformat_minor": 2
}
